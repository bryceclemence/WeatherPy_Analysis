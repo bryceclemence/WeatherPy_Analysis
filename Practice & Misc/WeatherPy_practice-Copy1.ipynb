{
 "cells": [
  {
   "cell_type": "code",
   "execution_count": 2,
   "id": "4a8f6cdb",
   "metadata": {},
   "outputs": [],
   "source": [
    "# Import dependencies\n",
    "import pandas as pd\n",
    "import matplotlib.pyplot as plt\n",
    "import numpy as np\n",
    "from citipy import citipy\n",
    "# Import the requests library\n",
    "import requests\n",
    "\n",
    "# Import the aPI keys.\n",
    "from config import weather_api_key\n",
    "\n",
    "# Import the time library and the datatime module from the datatime library\n",
    "import time\n",
    "from datetime import datetime\n",
    "\n",
    "url = \"http://api.openweathermap.org/data/2.5/weather?units=Imperial&APPID=\" + weather_api_key"
   ]
  },
  {
   "cell_type": "code",
   "execution_count": 3,
   "id": "3cc77607",
   "metadata": {},
   "outputs": [],
   "source": [
    "import gmaps"
   ]
  },
  {
   "cell_type": "code",
   "execution_count": 4,
   "id": "5499d342",
   "metadata": {},
   "outputs": [
    {
     "data": {
      "text/plain": [
       "<zip at 0x224a8b4e740>"
      ]
     },
     "execution_count": 4,
     "metadata": {},
     "output_type": "execute_result"
    }
   ],
   "source": [
    "# Create a set of random latitude and longitude combinations\n",
    "lats = np.random.uniform(low=-90.000, high=90.000, size=1500)\n",
    "lngs = np.random.uniform(low=-180.000, high=180.000, size=1500)\n",
    "lat_lngs = zip(lats, lngs)\n",
    "lat_lngs"
   ]
  },
  {
   "cell_type": "code",
   "execution_count": 5,
   "id": "d7000aa7",
   "metadata": {},
   "outputs": [],
   "source": [
    "# Add the latitudes and longitudes to a list.\n",
    "coordinates = list(lat_lngs)"
   ]
  },
  {
   "cell_type": "code",
   "execution_count": 6,
   "id": "a8b9dfef",
   "metadata": {},
   "outputs": [
    {
     "data": {
      "text/plain": [
       "606"
      ]
     },
     "execution_count": 6,
     "metadata": {},
     "output_type": "execute_result"
    }
   ],
   "source": [
    "# Create a list for holding the cities.\n",
    "cities = []\n",
    "# Identify the nearest city for each latitude and longitude combination.\n",
    "for coordinate in coordinates:\n",
    "    city = citipy.nearest_city(coordinate[0], coordinate[1]).city_name\n",
    "\n",
    "    # If the city is unique, then we will add it to the cities list.\n",
    "    if city not in cities:\n",
    "        cities.append(city)\n",
    "# Print the city count to confirm sufficient count.\n",
    "len(cities)      "
   ]
  },
  {
   "cell_type": "code",
   "execution_count": 7,
   "id": "87d90f2d",
   "metadata": {},
   "outputs": [
    {
     "data": {
      "text/plain": [
       "<Response [200]>"
      ]
     },
     "execution_count": 7,
     "metadata": {},
     "output_type": "execute_result"
    }
   ],
   "source": [
    "# Create an endpoint URL for a city\n",
    "city_url = url + \"&q=\" + \"Boston\"\n",
    "# Make a 'Get' request for the city weather.\n",
    "city_weather = requests.get(city_url)\n",
    "city_weather"
   ]
  },
  {
   "cell_type": "code",
   "execution_count": 8,
   "id": "9bbaaab4",
   "metadata": {},
   "outputs": [
    {
     "data": {
      "text/plain": [
       "'{\"coord\":{\"lon\":-71.0598,\"lat\":42.3584},\"weather\":[{\"id\":500,\"main\":\"Rain\",\"description\":\"light rain\",\"icon\":\"10d\"}],\"base\":\"stations\",\"main\":{\"temp\":44.83,\"feels_like\":39.51,\"temp_min\":41.88,\"temp_max\":47.57,\"pressure\":1024,\"humidity\":93},\"visibility\":10000,\"wind\":{\"speed\":10.36,\"deg\":230},\"rain\":{\"1h\":0.65},\"clouds\":{\"all\":100},\"dt\":1643909727,\"sys\":{\"type\":1,\"id\":3486,\"country\":\"US\",\"sunrise\":1643889346,\"sunset\":1643925619},\"timezone\":-18000,\"id\":4930956,\"name\":\"Boston\",\"cod\":200}'"
      ]
     },
     "execution_count": 8,
     "metadata": {},
     "output_type": "execute_result"
    }
   ],
   "source": [
    "# Get the text of the 'Get' request\n",
    "city_weather.text"
   ]
  },
  {
   "cell_type": "code",
   "execution_count": 9,
   "id": "7c206989",
   "metadata": {},
   "outputs": [
    {
     "data": {
      "text/plain": [
       "{'coord': {'lon': -71.0598, 'lat': 42.3584},\n",
       " 'weather': [{'id': 500,\n",
       "   'main': 'Rain',\n",
       "   'description': 'light rain',\n",
       "   'icon': '10d'}],\n",
       " 'base': 'stations',\n",
       " 'main': {'temp': 44.83,\n",
       "  'feels_like': 39.51,\n",
       "  'temp_min': 41.88,\n",
       "  'temp_max': 47.57,\n",
       "  'pressure': 1024,\n",
       "  'humidity': 93},\n",
       " 'visibility': 10000,\n",
       " 'wind': {'speed': 10.36, 'deg': 230},\n",
       " 'rain': {'1h': 0.65},\n",
       " 'clouds': {'all': 100},\n",
       " 'dt': 1643909727,\n",
       " 'sys': {'type': 1,\n",
       "  'id': 3486,\n",
       "  'country': 'US',\n",
       "  'sunrise': 1643889346,\n",
       "  'sunset': 1643925619},\n",
       " 'timezone': -18000,\n",
       " 'id': 4930956,\n",
       " 'name': 'Boston',\n",
       " 'cod': 200}"
      ]
     },
     "execution_count": 9,
     "metadata": {},
     "output_type": "execute_result"
    }
   ],
   "source": [
    "# Get the JSON text of the 'Get' request.\n",
    "city_weather.json()"
   ]
  },
  {
   "cell_type": "code",
   "execution_count": 10,
   "id": "a4a8f37d",
   "metadata": {},
   "outputs": [
    {
     "name": "stdout",
     "output_type": "stream",
     "text": [
      "City Weather found.\n"
     ]
    }
   ],
   "source": [
    "# Create an endpoint URL for a city\n",
    "city_url = url + \"&q=\" + \"Boston\"\n",
    "city_weather = requests.get(city_url)\n",
    "if city_weather.status_code == 200:\n",
    "    print(\"City Weather found.\")\n",
    "else:\n",
    "    print(\"City Weather not found.\")"
   ]
  },
  {
   "cell_type": "code",
   "execution_count": 11,
   "id": "de4ecbd4",
   "metadata": {},
   "outputs": [],
   "source": [
    "boston_data = city_weather.json()"
   ]
  },
  {
   "cell_type": "code",
   "execution_count": 12,
   "id": "31598018",
   "metadata": {},
   "outputs": [
    {
     "data": {
      "text/plain": [
       "42.3584"
      ]
     },
     "execution_count": 12,
     "metadata": {},
     "output_type": "execute_result"
    }
   ],
   "source": [
    "boston_data['coord']['lat']"
   ]
  },
  {
   "cell_type": "code",
   "execution_count": 13,
   "id": "c0f27354",
   "metadata": {},
   "outputs": [
    {
     "data": {
      "text/plain": [
       "47.57"
      ]
     },
     "execution_count": 13,
     "metadata": {},
     "output_type": "execute_result"
    }
   ],
   "source": [
    "boston_data['main']['temp_max']"
   ]
  },
  {
   "cell_type": "code",
   "execution_count": 14,
   "id": "0dee51a4",
   "metadata": {},
   "outputs": [
    {
     "name": "stdout",
     "output_type": "stream",
     "text": [
      "42.3584 -71.0598 47.57 93 100 10.36\n"
     ]
    }
   ],
   "source": [
    "lat = boston_data['coord']['lat']\n",
    "lng = boston_data['coord']['lon']\n",
    "max_temp = boston_data['main']['temp_max']\n",
    "humidity = boston_data['main']['humidity']\n",
    "clouds = boston_data['clouds']['all']\n",
    "wind = boston_data['wind']['speed']\n",
    "print(lat, lng, max_temp, humidity, clouds, wind)"
   ]
  },
  {
   "cell_type": "code",
   "execution_count": 15,
   "id": "99e55883",
   "metadata": {},
   "outputs": [
    {
     "data": {
      "text/plain": [
       "'2022-02-03 17:35:27'"
      ]
     },
     "execution_count": 15,
     "metadata": {},
     "output_type": "execute_result"
    }
   ],
   "source": [
    "# Import the datetime module form the datetime library\n",
    "from datetime import datetime\n",
    "# Get the date from the JSON file\n",
    "date = boston_data['dt']\n",
    "# Convert the UTC date to a date format with year, month, day, hours, minutes, and seconds.\n",
    "datetime.utcfromtimestamp(date).strftime('%Y-%m-%d %H:%M:%S')"
   ]
  },
  {
   "cell_type": "code",
   "execution_count": 16,
   "id": "b1973120",
   "metadata": {},
   "outputs": [],
   "source": [
    "import time\n",
    "from datetime import datetime"
   ]
  },
  {
   "cell_type": "code",
   "execution_count": null,
   "id": "eee46b56",
   "metadata": {},
   "outputs": [
    {
     "name": "stdout",
     "output_type": "stream",
     "text": [
      "Beginning Data retrieval      \n",
      "------------------------------\n",
      "Processing Record 1 of Set 1 | pisco\n",
      "Processing Record 2 of Set 1 | castro\n",
      "Processing Record 3 of Set 1 | ponta do sol\n",
      "Processing Record 4 of Set 1 | cabo san lucas\n",
      "Processing Record 5 of Set 1 | upernavik\n",
      "Processing Record 6 of Set 1 | norman wells\n",
      "Processing Record 7 of Set 1 | jorhat\n",
      "Processing Record 8 of Set 1 | tsihombe\n",
      "Processing Record 9 of Set 1 | tasiilaq\n",
      "Processing Record 10 of Set 1 | belushya guba\n",
      "Processing Record 11 of Set 1 | thompson\n",
      "Processing Record 12 of Set 1 | busselton\n",
      "Processing Record 13 of Set 1 | albany\n",
      "Processing Record 14 of Set 1 | atuona\n",
      "Processing Record 15 of Set 1 | andra\n",
      "Processing Record 16 of Set 1 | baft\n",
      "Processing Record 17 of Set 1 | illoqqortoormiut\n",
      "Processing Record 18 of Set 1 | yellowknife\n",
      "Processing Record 19 of Set 1 | cayenne\n",
      "Processing Record 20 of Set 1 | bethel\n",
      "Processing Record 21 of Set 1 | nikolskoye\n",
      "Processing Record 22 of Set 1 | tuatapere\n",
      "Processing Record 23 of Set 1 | jamestown\n",
      "Processing Record 24 of Set 1 | nizwa\n",
      "Processing Record 25 of Set 1 | chokurdakh\n",
      "Processing Record 26 of Set 1 | beloit\n",
      "Processing Record 27 of Set 1 | avera\n",
      "Processing Record 28 of Set 1 | punta arenas\n",
      "Processing Record 29 of Set 1 | port hawkesbury\n",
      "Processing Record 30 of Set 1 | hermanus\n",
      "Processing Record 31 of Set 1 | cacu\n",
      "Processing Record 32 of Set 1 | saint-georges\n",
      "Processing Record 33 of Set 1 | mys shmidta\n",
      "Processing Record 34 of Set 1 | the valley\n",
      "Processing Record 35 of Set 1 | cape town\n",
      "Processing Record 36 of Set 1 | amderma\n",
      "Processing Record 37 of Set 1 | provideniya\n",
      "Processing Record 38 of Set 1 | altay\n",
      "Processing Record 39 of Set 1 | bilma\n",
      "Processing Record 40 of Set 1 | fairbanks\n",
      "Processing Record 41 of Set 1 | rikitea\n",
      "Processing Record 42 of Set 1 | aklavik\n",
      "Processing Record 43 of Set 1 | kant\n",
      "Processing Record 44 of Set 1 | poum\n",
      "Processing Record 45 of Set 1 | padang\n",
      "Processing Record 46 of Set 1 | saint anthony\n",
      "Processing Record 47 of Set 1 | saint-pierre\n",
      "Processing Record 48 of Set 1 | ushuaia\n",
      "Processing Record 49 of Set 1 | kapaa\n",
      "Processing Record 50 of Set 1 | vaini\n",
      "Processing Record 1 of Set 2 | chuy\n",
      "Processing Record 2 of Set 2 | lebu\n",
      "Processing Record 3 of Set 2 | forest\n",
      "Processing Record 4 of Set 2 | gat\n",
      "Processing Record 5 of Set 2 | puerto parra\n",
      "Processing Record 6 of Set 2 | viligili\n",
      "Processing Record 7 of Set 2 | new norfolk\n",
      "Processing Record 8 of Set 2 | komsomolskiy\n",
      "Processing Record 9 of Set 2 | maniitsoq\n",
      "Processing Record 10 of Set 2 | avarua\n",
      "Processing Record 11 of Set 2 | port elizabeth\n",
      "Processing Record 12 of Set 2 | marihatag\n",
      "Processing Record 13 of Set 2 | arraial do cabo\n",
      "Processing Record 14 of Set 2 | victoria\n",
      "Processing Record 15 of Set 2 | narsaq\n",
      "Processing Record 16 of Set 2 | kalakamati\n",
      "Processing Record 17 of Set 2 | kamenka\n",
      "Processing Record 18 of Set 2 | mbengwi\n",
      "Processing Record 19 of Set 2 | dolbeau\n",
      "Processing Record 20 of Set 2 | touros\n",
      "Processing Record 21 of Set 2 | poya\n",
      "Processing Record 22 of Set 2 | farafangana\n",
      "Processing Record 23 of Set 2 | shakawe\n",
      "Processing Record 24 of Set 2 | jacareacanga\n",
      "Processing Record 25 of Set 2 | saleaula\n",
      "Processing Record 26 of Set 2 | calabozo\n",
      "Processing Record 27 of Set 2 | severo-kurilsk\n",
      "Processing Record 28 of Set 2 | cidreira\n",
      "Processing Record 29 of Set 2 | samusu\n",
      "Processing Record 30 of Set 2 | butaritari\n",
      "Processing Record 31 of Set 2 | viedma\n",
      "Processing Record 32 of Set 2 | berlevag\n",
      "Processing Record 33 of Set 2 | carnarvon\n",
      "Processing Record 34 of Set 2 | klaksvik\n",
      "Processing Record 35 of Set 2 | acajutla\n",
      "Processing Record 36 of Set 2 | oum hadjer\n",
      "Processing Record 37 of Set 2 | jackson\n",
      "Processing Record 38 of Set 2 | bubaque\n",
      "Processing Record 39 of Set 2 | dikson\n",
      "Processing Record 40 of Set 2 | taolanaro\n",
      "Processing Record 41 of Set 2 | petatlan\n",
      "Processing Record 42 of Set 2 | sorland\n",
      "Processing Record 43 of Set 2 | oruro\n",
      "Processing Record 44 of Set 2 | lavrentiya\n",
      "Processing Record 45 of Set 2 | manta\n",
      "Processing Record 46 of Set 2 | bima\n",
      "Processing Record 47 of Set 2 | goianesia\n",
      "Processing Record 48 of Set 2 | hobart\n",
      "Processing Record 49 of Set 2 | mahebourg\n",
      "Processing Record 50 of Set 2 | kodiak\n"
     ]
    }
   ],
   "source": [
    "# Create an empty list to hold the weather data\n",
    "city_data = []\n",
    "# Print the beginning of the logging.\n",
    "print(\"Beginning Data retrieval      \")\n",
    "print(\"------------------------------\")\n",
    "\n",
    "# Create counters\n",
    "record_count = 1\n",
    "set_count = 1\n",
    "\n",
    "\n",
    "# Loop through all the cities in our lsit.\n",
    "for i, city in enumerate(cities):\n",
    "    \n",
    "    # Group cities in sets of 50 for logging purposes.\n",
    "    if (i % 50 == 0 and i >= 50):\n",
    "        set_count += 1\n",
    "        record_count = 1\n",
    "        time.sleep(60)\n",
    "        \n",
    "    # Create endpoint URL with each city.\n",
    "    city_irl = url + \"&q=\" + cities[i]\n",
    "    # Log the URL, record, and set numbers and the city.\n",
    "    print(f\"Processing Record {record_count} of Set {set_count} | {city}\")\n",
    "    # Add 1 to the record count\n",
    "    record_count +=1\n",
    "    \n",
    "# Run an PAI requrst for each of the cities.\n",
    "    try:\n",
    "        # Parse the JSON and retrieve data.\n",
    "        city_weather = requests.get(city_url).json()\n",
    "        # Parse out the needed data.\n",
    "        city_lat = city_weather[\"coord\"][\"lat\"]\n",
    "        city_lng = city_weather[\"coord\"][\"lon\"]\n",
    "        city_max_temp = city_weather[\"main\"][\"temp_max\"]\n",
    "        city_humidity = city_weather[\"main\"][\"humidity\"]\n",
    "        city_clouds = city_weather[\"clouds\"][\"all\"]\n",
    "        city_wind = city_weather[\"wind\"][\"speed\"]\n",
    "        city_country = city_weather[\"sys\"][\"country\"]\n",
    "        # Convert the date into ISO standard.\n",
    "        city_date = datetime.utcfromtimestamp(city_weather[\"dt\"]).strftime('%Y-%M-%D %H:%M:%S')\n",
    "        # Append the city information into city_data list.\n",
    "        city_data.append({\"City\": city.title(),\n",
    "                         \"Lat\": city_lat,\n",
    "                         \"Lng\": city_lng,\n",
    "                         \"Max Temp\": city_max_temp,\n",
    "                         \"Humidity\": city_humidity,\n",
    "                         \"Cloudiness\": city_clouds,\n",
    "                         \"Wind Speed\": city_wind,\n",
    "                         \"Country\": city_country,\n",
    "                         \"Date\": city_date})\n",
    "        \n",
    "# IF an error in experienced, skip the city\n",
    "    except:\n",
    "        print(\"City not found. Skipping...\")\n",
    "        pass\n",
    "    \n",
    "# Indicate that Data Loading is Complete\n",
    "print(\"-------------------------------\")\n",
    "print(\"Data Retreival Complete\")\n",
    "print(\"-------------------------------\")"
   ]
  },
  {
   "cell_type": "code",
   "execution_count": null,
   "id": "c1e98636",
   "metadata": {},
   "outputs": [],
   "source": []
  },
  {
   "cell_type": "code",
   "execution_count": null,
   "id": "ca1476ff",
   "metadata": {},
   "outputs": [],
   "source": []
  },
  {
   "cell_type": "code",
   "execution_count": null,
   "id": "bd797c04",
   "metadata": {},
   "outputs": [],
   "source": []
  },
  {
   "cell_type": "code",
   "execution_count": null,
   "id": "abddac98",
   "metadata": {},
   "outputs": [],
   "source": []
  },
  {
   "cell_type": "code",
   "execution_count": null,
   "id": "21167a50",
   "metadata": {},
   "outputs": [],
   "source": []
  }
 ],
 "metadata": {
  "kernelspec": {
   "display_name": "PythonData",
   "language": "python",
   "name": "pythondata"
  },
  "language_info": {
   "codemirror_mode": {
    "name": "ipython",
    "version": 3
   },
   "file_extension": ".py",
   "mimetype": "text/x-python",
   "name": "python",
   "nbconvert_exporter": "python",
   "pygments_lexer": "ipython3",
   "version": "3.9.7"
  }
 },
 "nbformat": 4,
 "nbformat_minor": 5
}
