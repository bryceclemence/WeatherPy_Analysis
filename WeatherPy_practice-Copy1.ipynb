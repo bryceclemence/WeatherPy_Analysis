{
 "cells": [
  {
   "cell_type": "code",
   "execution_count": 2,
   "id": "4a8f6cdb",
   "metadata": {},
   "outputs": [],
   "source": [
    "# Import dependencies\n",
    "import pandas as pd\n",
    "import matplotlib.pyplot as plt\n",
    "import numpy as np\n",
    "from citipy import citipy\n",
    "# Import the requests library\n",
    "import requests\n",
    "\n",
    "# Import the aPI keys.\n",
    "from config import weather_api_key"
   ]
  },
  {
   "cell_type": "code",
   "execution_count": 11,
   "id": "5499d342",
   "metadata": {},
   "outputs": [
    {
     "data": {
      "text/plain": [
       "<zip at 0x2b746a61480>"
      ]
     },
     "execution_count": 11,
     "metadata": {},
     "output_type": "execute_result"
    }
   ],
   "source": [
    "# Create a set of random latitude and longitude combinations\n",
    "lats = np.random.uniform(low=-90.000, high=90.000, size=1500)\n",
    "lngs = np.random.uniform(low=-180.000, high=180.000, size=1500)\n",
    "lat_lngs = zip(lats, lngs)\n",
    "lat_lngs"
   ]
  },
  {
   "cell_type": "code",
   "execution_count": 12,
   "id": "93365ea1",
   "metadata": {},
   "outputs": [],
   "source": [
    "# Create a practice set of random latitude and longitude combinations.\n",
    "x = [25.12903645, 25.92017388, 26.62509167, -59.98969384, 37.30571269]\n",
    "y = [-67.59741259, 11.09532135, 74.84233102, -76.89176677, -61.13376282]\n",
    "coordinates = zip(lats,lngs)"
   ]
  },
  {
   "cell_type": "code",
   "execution_count": 13,
   "id": "d7000aa7",
   "metadata": {},
   "outputs": [],
   "source": [
    "# Add the latitudes and longitudes to a list.\n",
    "coordinates = list(lat_lngs)"
   ]
  },
  {
   "cell_type": "code",
   "execution_count": 14,
   "id": "a8b9dfef",
   "metadata": {},
   "outputs": [
    {
     "data": {
      "text/plain": [
       "613"
      ]
     },
     "execution_count": 14,
     "metadata": {},
     "output_type": "execute_result"
    }
   ],
   "source": [
    "# Create a list for holding the cities.\n",
    "cities = []\n",
    "# Identify the nearest city for each latitude and longitude combination.\n",
    "for coordinate in coordinates:\n",
    "    city = citipy.nearest_city(coordinate[0], coordinate[1]).city_name\n",
    "\n",
    "    # If the city is unique, then we will add it to the cities list.\n",
    "    if city not in cities:\n",
    "        cities.append(city)\n",
    "# Print the city count to confirm sufficient count.\n",
    "len(cities)      "
   ]
  },
  {
   "cell_type": "code",
   "execution_count": 15,
   "id": "7570b329",
   "metadata": {},
   "outputs": [
    {
     "name": "stdout",
     "output_type": "stream",
     "text": [
      "Requirement already satisfied: citipy in c:\\users\\bryce\\anaconda3\\lib\\site-packages (0.0.5)Note: you may need to restart the kernel to use updated packages.\n",
      "Requirement already satisfied: kdtree>=0.12 in c:\\users\\bryce\\anaconda3\\lib\\site-packages (from citipy) (0.16)\n",
      "\n"
     ]
    }
   ],
   "source": [
    "pip install citipy"
   ]
  },
  {
   "cell_type": "code",
   "execution_count": 112,
   "id": "3c0d0252",
   "metadata": {},
   "outputs": [],
   "source": [
    "from citipy import citipy"
   ]
  },
  {
   "cell_type": "code",
   "execution_count": 37,
   "id": "af5b970a",
   "metadata": {},
   "outputs": [
    {
     "name": "stdout",
     "output_type": "stream",
     "text": [
      "http://api.openweathermap.org/data/2.5/weather?units=Imperial&APPID=d761bca044f7444f270bc0e5e9576abf\n"
     ]
    }
   ],
   "source": [
    "# Starting URL for Weather Map API Call.\n",
    "url = \"http://api.openweathermap.org/data/2.5/weather?units=Imperial&APPID=\" + weather_api_key\n",
    "print(url)"
   ]
  },
  {
   "cell_type": "code",
   "execution_count": 39,
   "id": "809f3b9f",
   "metadata": {},
   "outputs": [
    {
     "name": "stdout",
     "output_type": "stream",
     "text": [
      "http://api.openweathermap.org/data/2.5/weather?units=Imperial&APPID=d761bca044f7444f270bc0e5e9576abf&q=Boston\n"
     ]
    }
   ],
   "source": [
    "# Create an endpoint URL for a city\n",
    "city_url = url + \"&q=\" + \"Boston\"\n",
    "print(city_url)"
   ]
  },
  {
   "cell_type": "code",
   "execution_count": 114,
   "id": "f30165ab",
   "metadata": {},
   "outputs": [],
   "source": [
    "# Import the requests library\n",
    "import requests\n",
    "\n",
    "# Import the aPI keys.\n",
    "from config import weather_api_key"
   ]
  },
  {
   "cell_type": "code",
   "execution_count": 40,
   "id": "87d90f2d",
   "metadata": {},
   "outputs": [
    {
     "data": {
      "text/plain": [
       "<Response [200]>"
      ]
     },
     "execution_count": 40,
     "metadata": {},
     "output_type": "execute_result"
    }
   ],
   "source": [
    "# Make a 'Get' request for the city weather.\n",
    "city_weather = requests.get(city_url)\n",
    "city_weather"
   ]
  },
  {
   "cell_type": "code",
   "execution_count": 41,
   "id": "9bbaaab4",
   "metadata": {},
   "outputs": [
    {
     "data": {
      "text/plain": [
       "'{\"coord\":{\"lon\":-71.0598,\"lat\":42.3584},\"weather\":[{\"id\":701,\"main\":\"Mist\",\"description\":\"mist\",\"icon\":\"50n\"},{\"id\":601,\"main\":\"Snow\",\"description\":\"snow\",\"icon\":\"13n\"}],\"base\":\"stations\",\"main\":{\"temp\":27.81,\"feels_like\":27.81,\"temp_min\":24.08,\"temp_max\":30.63,\"pressure\":1013,\"humidity\":88},\"visibility\":4828,\"wind\":{\"speed\":1.99,\"deg\":0,\"gust\":11.01},\"snow\":{\"1h\":0.59},\"clouds\":{\"all\":100},\"dt\":1643090877,\"sys\":{\"type\":2,\"id\":2013408,\"country\":\"US\",\"sunrise\":1643112259,\"sunset\":1643147313},\"timezone\":-18000,\"id\":4930956,\"name\":\"Boston\",\"cod\":200}'"
      ]
     },
     "execution_count": 41,
     "metadata": {},
     "output_type": "execute_result"
    }
   ],
   "source": [
    "# Get the text of the 'Get' request\n",
    "city_weather.text"
   ]
  },
  {
   "cell_type": "code",
   "execution_count": 42,
   "id": "7c206989",
   "metadata": {},
   "outputs": [
    {
     "data": {
      "text/plain": [
       "{'coord': {'lon': -71.0598, 'lat': 42.3584},\n",
       " 'weather': [{'id': 701, 'main': 'Mist', 'description': 'mist', 'icon': '50n'},\n",
       "  {'id': 601, 'main': 'Snow', 'description': 'snow', 'icon': '13n'}],\n",
       " 'base': 'stations',\n",
       " 'main': {'temp': 27.81,\n",
       "  'feels_like': 27.81,\n",
       "  'temp_min': 24.08,\n",
       "  'temp_max': 30.63,\n",
       "  'pressure': 1013,\n",
       "  'humidity': 88},\n",
       " 'visibility': 4828,\n",
       " 'wind': {'speed': 1.99, 'deg': 0, 'gust': 11.01},\n",
       " 'snow': {'1h': 0.59},\n",
       " 'clouds': {'all': 100},\n",
       " 'dt': 1643090877,\n",
       " 'sys': {'type': 2,\n",
       "  'id': 2013408,\n",
       "  'country': 'US',\n",
       "  'sunrise': 1643112259,\n",
       "  'sunset': 1643147313},\n",
       " 'timezone': -18000,\n",
       " 'id': 4930956,\n",
       " 'name': 'Boston',\n",
       " 'cod': 200}"
      ]
     },
     "execution_count": 42,
     "metadata": {},
     "output_type": "execute_result"
    }
   ],
   "source": [
    "# Get the JSON text of the 'Get' request.\n",
    "city_weather.json()"
   ]
  },
  {
   "cell_type": "code",
   "execution_count": 43,
   "id": "a4a8f37d",
   "metadata": {},
   "outputs": [
    {
     "name": "stdout",
     "output_type": "stream",
     "text": [
      "City Weather found.\n"
     ]
    }
   ],
   "source": [
    "# Create an endpoint URL for a city\n",
    "city_url = url + \"&q=\" + \"Boston\"\n",
    "city_weather = requests.get(city_url)\n",
    "if city_weather.status_code == 200:\n",
    "    print(\"City Weather found.\")\n",
    "else:\n",
    "    print(\"City Weather not found.\")"
   ]
  },
  {
   "cell_type": "code",
   "execution_count": 44,
   "id": "de4ecbd4",
   "metadata": {},
   "outputs": [],
   "source": [
    "boston_data = city_weather.json()"
   ]
  },
  {
   "cell_type": "code",
   "execution_count": 50,
   "id": "31598018",
   "metadata": {},
   "outputs": [
    {
     "data": {
      "text/plain": [
       "42.3584"
      ]
     },
     "execution_count": 50,
     "metadata": {},
     "output_type": "execute_result"
    }
   ],
   "source": [
    "boston_data['coord']['lat']"
   ]
  },
  {
   "cell_type": "code",
   "execution_count": 52,
   "id": "c0f27354",
   "metadata": {},
   "outputs": [
    {
     "data": {
      "text/plain": [
       "30.63"
      ]
     },
     "execution_count": 52,
     "metadata": {},
     "output_type": "execute_result"
    }
   ],
   "source": [
    "boston_data['main']['temp_max']"
   ]
  },
  {
   "cell_type": "code",
   "execution_count": 56,
   "id": "0dee51a4",
   "metadata": {},
   "outputs": [
    {
     "name": "stdout",
     "output_type": "stream",
     "text": [
      "42.3584 -71.0598 30.63 88 100 1.99\n"
     ]
    }
   ],
   "source": [
    "lat = boston_data['coord']['lat']\n",
    "lng = boston_data['coord']['lon']\n",
    "max_temp = boston_data['main']['temp_max']\n",
    "humidity = boston_data['main']['humidity']\n",
    "clouds = boston_data['clouds']['all']\n",
    "wind = boston_data['wind']['speed']\n",
    "print(lat, lng, max_temp, humidity, clouds, wind)"
   ]
  },
  {
   "cell_type": "code",
   "execution_count": 58,
   "id": "99e55883",
   "metadata": {},
   "outputs": [
    {
     "data": {
      "text/plain": [
       "'2022-01-25 06:07:57'"
      ]
     },
     "execution_count": 58,
     "metadata": {},
     "output_type": "execute_result"
    }
   ],
   "source": [
    "# Import the datetime module form the datetime library\n",
    "from datetime import datetime\n",
    "# Get the date from the JSON file\n",
    "date = boston_data['dt']\n",
    "# Convert the UTC date to a date format with year, month, day, hours, minutes, and seconds.\n",
    "datetime.utcfromtimestamp(date).strftime('%Y-%m-%d %H:%M:%S')"
   ]
  },
  {
   "cell_type": "code",
   "execution_count": 59,
   "id": "b1973120",
   "metadata": {},
   "outputs": [],
   "source": [
    "import time\n",
    "from datetime import datetime"
   ]
  },
  {
   "cell_type": "code",
   "execution_count": 64,
   "id": "eee46b56",
   "metadata": {},
   "outputs": [
    {
     "name": "stdout",
     "output_type": "stream",
     "text": [
      "Beginning Data retrieval      \n",
      "------------------------------\n",
      "Processing Record 1 of Set 1 | houma\n",
      "Processing Record 2 of Set 1 | monroe\n",
      "Processing Record 3 of Set 1 | lebu\n",
      "Processing Record 4 of Set 1 | castro\n",
      "Processing Record 5 of Set 1 | ancud\n",
      "Processing Record 6 of Set 1 | chicama\n",
      "Processing Record 7 of Set 1 | thompson\n",
      "Processing Record 8 of Set 1 | acajutla\n",
      "Processing Record 9 of Set 1 | estelle\n",
      "Processing Record 10 of Set 1 | farmington\n",
      "Processing Record 11 of Set 1 | grenada\n",
      "Processing Record 12 of Set 1 | punta arenas\n",
      "Processing Record 13 of Set 1 | escarcega\n",
      "Processing Record 14 of Set 1 | qaanaaq\n",
      "Processing Record 15 of Set 1 | pisco\n",
      "Processing Record 16 of Set 1 | san cristobal\n",
      "Processing Record 17 of Set 1 | ushuaia\n",
      "Processing Record 18 of Set 1 | thunder bay\n",
      "Processing Record 19 of Set 1 | progreso\n",
      "Processing Record 20 of Set 1 | freeport\n",
      "Processing Record 21 of Set 1 | sioux lookout\n",
      "Processing Record 22 of Set 1 | merrill\n",
      "Processing Record 23 of Set 1 | mandeville\n",
      "Processing Record 24 of Set 1 | puerto ayora\n",
      "Processing Record 25 of Set 1 | tetiz\n",
      "Processing Record 26 of Set 1 | bogalusa\n",
      "Processing Record 27 of Set 1 | santa cruz\n",
      "Processing Record 28 of Set 1 | waterloo\n",
      "Processing Record 29 of Set 1 | canton\n",
      "Processing Record 30 of Set 1 | lima\n",
      "Processing Record 31 of Set 1 | huarmey\n",
      "Processing Record 32 of Set 1 | kewanee\n",
      "Processing Record 33 of Set 1 | marcona\n",
      "Processing Record 34 of Set 1 | hualmay\n",
      "Processing Record 35 of Set 1 | greenwood\n",
      "Processing Record 36 of Set 1 | san jose\n",
      "Processing Record 37 of Set 1 | memphis\n",
      "Processing Record 38 of Set 1 | sechura\n",
      "Processing Record 39 of Set 1 | conguaco\n",
      "Processing Record 40 of Set 1 | coquimbo\n",
      "Processing Record 41 of Set 1 | puerto baquerizo moreno\n",
      "Processing Record 42 of Set 1 | sayaxche\n",
      "Processing Record 43 of Set 1 | wisconsin rapids\n",
      "Processing Record 44 of Set 1 | hecelchakan\n",
      "Processing Record 45 of Set 1 | quezada\n",
      "Processing Record 46 of Set 1 | hopelchen\n",
      "Processing Record 47 of Set 1 | millington\n",
      "Processing Record 48 of Set 1 | oxford\n",
      "Processing Record 49 of Set 1 | horn lake\n",
      "Processing Record 50 of Set 1 | maxcanu\n",
      "Processing Record 1 of Set 2 | belleville\n",
      "Processing Record 2 of Set 2 | madison\n",
      "Processing Record 3 of Set 2 | lanquin\n",
      "Processing Record 4 of Set 2 | san francisco\n",
      "Processing Record 5 of Set 2 | la libertad\n",
      "Processing Record 6 of Set 2 | poplar bluff\n",
      "Processing Record 7 of Set 2 | jackson\n",
      "Processing Record 8 of Set 2 | glen carbon\n",
      "Processing Record 9 of Set 2 | corinto\n",
      "Processing Record 10 of Set 2 | marshfield\n",
      "Processing Record 11 of Set 2 | bolonchen\n",
      "Processing Record 12 of Set 2 | bethalto\n",
      "Processing Record 13 of Set 2 | jacksonville\n",
      "Processing Record 14 of Set 2 | chisec\n",
      "Processing Record 15 of Set 2 | san francisco menendez\n",
      "Processing Record 16 of Set 2 | chalmette\n",
      "Processing Record 17 of Set 2 | jalapa\n",
      "Processing Record 18 of Set 2 | blytheville\n",
      "Processing Record 19 of Set 2 | baraboo\n",
      "Processing Record 20 of Set 2 | kennett\n",
      "Processing Record 21 of Set 2 | pimentel\n",
      "Processing Record 22 of Set 2 | san agustin acasaguastlan\n",
      "Processing Record 23 of Set 2 | southaven\n",
      "Processing Record 24 of Set 2 | tucuru\n",
      "Processing Record 25 of Set 2 | edwardsville\n",
      "Processing Record 26 of Set 2 | kinchil\n",
      "Processing Record 27 of Set 2 | clinton\n",
      "Processing Record 28 of Set 2 | dzitbalche\n",
      "Processing Record 29 of Set 2 | becal\n",
      "Processing Record 30 of Set 2 | brandon\n",
      "Processing Record 31 of Set 2 | brookhaven\n",
      "Processing Record 32 of Set 2 | monjas\n",
      "Processing Record 33 of Set 2 | terrytown\n",
      "Processing Record 34 of Set 2 | guastatoya\n",
      "Processing Record 35 of Set 2 | san andres\n",
      "Processing Record 36 of Set 2 | calkini\n",
      "-------------------------------\n",
      "Data Retreival Complete\n",
      "-------------------------------\n"
     ]
    }
   ],
   "source": [
    "# Create an empty list to hold the weather data\n",
    "city_data = []\n",
    "# Print the beginning of the logging.\n",
    "print(\"Beginning Data retrieval      \")\n",
    "print(\"------------------------------\")\n",
    "\n",
    "# Create counters\n",
    "record_count = 1\n",
    "set_count = 1\n",
    "\n",
    "\n",
    "# Loop through all the cities in our lsit.\n",
    "for i, city in enumerate(cities):\n",
    "    \n",
    "    # Group cities in sets of 50 for logging purposes.\n",
    "    if (i % 50 == 0 and i >= 50):\n",
    "        set_count += 1\n",
    "        record_count = 1\n",
    "        time.sleep(60)\n",
    "        \n",
    "    # Create endpoint URL with each city.\n",
    "    city_irl = url + \"&q=\" + cities[i]\n",
    "    # Log the URL, record, and set numbers and the city.\n",
    "    print(f\"Processing Record {record_count} of Set {set_count} | {city}\")\n",
    "    # Add 1 to the record count\n",
    "    record_count +=1\n",
    "    \n",
    "# Run an PAI requrst for each of the cities.\n",
    "    try:\n",
    "        # Parse the JSON and retrieve data.\n",
    "        city_weather = requests.get(city_url).json()\n",
    "        # Parse out the needed data.\n",
    "        city_lat = city_weather[\"coord\"][\"lat\"]\n",
    "        city_lng = city_weather[\"coord\"][\"lon\"]\n",
    "        city_max_temp = city_weather[\"main\"][\"temp_max\"]\n",
    "        city_humidity = city_weather[\"main\"][\"humidity\"]\n",
    "        city_clouds = city_weather[\"clouds\"][\"all\"]\n",
    "        city_wind = city_weather[\"wind\"][\"speed\"]\n",
    "        city_country = city_weather[\"sys\"][\"country\"]\n",
    "        # Convert the date into ISO standard.\n",
    "        city_date = datetime.utcfromtimestamp(city_weather[\"dt\"]).strftime('%Y-%M-%D %H:%M:%S')\n",
    "        # Append the city information into city_data list.\n",
    "        city_data.append({\"City\": city.title(),\n",
    "                         \"Lat\": city_lat,\n",
    "                         \"Lng\": city_lng,\n",
    "                         \"Max Temp\": city_max_temp,\n",
    "                         \"Humidity\": city_humidity,\n",
    "                         \"Cloudiness\": city_clouds,\n",
    "                         \"Wind Speed\": city_wind,\n",
    "                         \"Country\": city_country,\n",
    "                         \"Date\": city_date})\n",
    "        \n",
    "# IF an error in experienced, skip the city\n",
    "    except:\n",
    "        print(\"City not found. Skipping...\")\n",
    "        pass\n",
    "    \n",
    "# Indicate that Data Loading is Complete\n",
    "print(\"-------------------------------\")\n",
    "print(\"Data Retreival Complete\")\n",
    "print(\"-------------------------------\")"
   ]
  },
  {
   "cell_type": "code",
   "execution_count": null,
   "id": "c1e98636",
   "metadata": {},
   "outputs": [],
   "source": []
  }
 ],
 "metadata": {
  "kernelspec": {
   "display_name": "PythonData",
   "language": "python",
   "name": "pythondata"
  },
  "language_info": {
   "codemirror_mode": {
    "name": "ipython",
    "version": 3
   },
   "file_extension": ".py",
   "mimetype": "text/x-python",
   "name": "python",
   "nbconvert_exporter": "python",
   "pygments_lexer": "ipython3",
   "version": "3.9.7"
  }
 },
 "nbformat": 4,
 "nbformat_minor": 5
}
